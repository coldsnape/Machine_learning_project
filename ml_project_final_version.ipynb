{
  "cells": [
    {
      "cell_type": "markdown",
      "source": "# Final Project",
      "metadata": {
        "tags": [],
        "cell_id": "00000-62ec1335-e47e-44e7-bcc6-2aae3a8f7f1d",
        "deepnote_cell_type": "markdown"
      }
    },
    {
      "cell_type": "markdown",
      "source": "## Table of Contents\n- Load Data\n- Feature Engineer\n- Split Data\n- Applied default algorithms\n- Tune selected models\n- Evaluate\n- Try different concepts\n- Conclusion",
      "metadata": {
        "toc": true,
        "cell_id": "00000-dd0a109b-b713-460a-a3dd-894b3f0d1e00",
        "deepnote_cell_type": "markdown"
      }
    },
    {
      "cell_type": "markdown",
      "source": "## Name (as it appears on Canvas)\n----------\n\n\n\n",
      "metadata": {
        "cell_id": "00002-bef78017-4166-4369-8204-4ce99928a720",
        "deepnote_cell_type": "markdown"
      }
    },
    {
      "cell_type": "markdown",
      "source": " Danh Nguyen",
      "metadata": {
        "cell_id": "00003-56673483-f38a-4f41-b4a7-e50c598cf75c",
        "deepnote_cell_type": "markdown"
      }
    },
    {
      "cell_type": "markdown",
      "source": "Research Question / Hypothesis\n----\nWhat health attribute would help to distinguish the presence (value 1) from absence (value 0) of heart disease?",
      "metadata": {
        "cell_id": "00004-98d47c9e-df46-441a-8dbd-becfeb33ac1e",
        "deepnote_cell_type": "markdown"
      }
    },
    {
      "cell_type": "code",
      "metadata": {
        "tags": [],
        "cell_id": "00005-ca1ac8f5-0f4d-4e8a-934a-bcb8488b0cf8",
        "deepnote_to_be_reexecuted": false,
        "source_hash": "dca65800",
        "execution_millis": 9,
        "execution_start": 1616087855971,
        "deepnote_cell_type": "code"
      },
      "source": "reset -fs",
      "outputs": [],
      "execution_count": null
    },
    {
      "cell_type": "markdown",
      "source": "Load Data\n-----",
      "metadata": {
        "cell_id": "00005-faf4048d-7bad-42e2-aab3-4332cab43e4e",
        "deepnote_cell_type": "markdown"
      }
    },
    {
      "cell_type": "code",
      "metadata": {
        "tags": [],
        "cell_id": "00006-e5664e77-6e1e-410b-aac8-b8dfe05b1c6a",
        "deepnote_to_be_reexecuted": false,
        "source_hash": "8c22b9cb",
        "execution_millis": 37358,
        "execution_start": 1616087855993,
        "deepnote_cell_type": "code"
      },
      "source": "%pip -q install category_encoders\n%pip -q install pandas_profiling\n%pip -q install base",
      "outputs": [
        {
          "name": "stdout",
          "text": "\u001b[33mWARNING: You are using pip version 20.1.1; however, version 21.0.1 is available.\nYou should consider upgrading via the '/usr/local/bin/python -m pip install --upgrade pip' command.\u001b[0m\nNote: you may need to restart the kernel to use updated packages.\n\u001b[33mWARNING: You are using pip version 20.1.1; however, version 21.0.1 is available.\nYou should consider upgrading via the '/usr/local/bin/python -m pip install --upgrade pip' command.\u001b[0m\nNote: you may need to restart the kernel to use updated packages.\n\u001b[33mWARNING: You are using pip version 20.1.1; however, version 21.0.1 is available.\nYou should consider upgrading via the '/usr/local/bin/python -m pip install --upgrade pip' command.\u001b[0m\nNote: you may need to restart the kernel to use updated packages.\n",
          "output_type": "stream"
        }
      ],
      "execution_count": null
    },
    {
      "cell_type": "markdown",
      "source": "## Imports",
      "metadata": {
        "tags": [],
        "cell_id": "00008-cc41a9de-dc71-4462-b37d-b6e5db0a6b13",
        "deepnote_cell_type": "markdown"
      }
    },
    {
      "cell_type": "code",
      "metadata": {
        "cell_id": "00006-d9f52092-9368-47fe-8773-e152012e6054",
        "deepnote_to_be_reexecuted": false,
        "source_hash": "d0b308b9",
        "execution_millis": 3125,
        "execution_start": 1616087893356,
        "deepnote_cell_type": "code"
      },
      "source": "from   category_encoders          import *\nimport numpy as np\nimport pandas as pd\nfrom   sklearn.compose            import *\nfrom   sklearn.ensemble           import RandomForestClassifier, ExtraTreesClassifier, IsolationForest\nfrom   sklearn.experimental       import enable_iterative_imputer\nfrom   sklearn.impute             import *\nfrom   sklearn.linear_model       import LogisticRegression, PassiveAggressiveClassifier, RidgeClassifier, SGDClassifier\nfrom   sklearn.metrics            import balanced_accuracy_score, roc_auc_score, f1_score # Evaluation metric 2.0 \nfrom   sklearn.pipeline           import Pipeline\nfrom   sklearn.preprocessing      import *\nfrom   sklearn.tree               import DecisionTreeClassifier, ExtraTreeClassifier\nfrom   sklearn.model_selection    import train_test_split\nfrom   pandas_profiling           import ProfileReport\nfrom   sklearn.model_selection    import RandomizedSearchCV\nfrom   sklearn.svm                import LinearSVC\nfrom   sklearn.base               import BaseEstimator\nfrom   sklearn.decomposition      import PCA\nfrom   sklearn.model_selection    import cross_val_score, cross_val_predict\nfrom   sklearn.cluster            import KMeans\nfrom   sklearn.metrics            import plot_confusion_matrix\nfrom   sklearn.ensemble           import StackingClassifier\nfrom   sklearn.pipeline           import make_pipeline\n\n",
      "outputs": [],
      "execution_count": null
    },
    {
      "cell_type": "markdown",
      "source": "## Load Data",
      "metadata": {
        "tags": [],
        "cell_id": "00008-43327a50-bae6-405f-9286-1a121b59c2f6",
        "deepnote_cell_type": "markdown"
      }
    },
    {
      "cell_type": "code",
      "metadata": {
        "cell_id": "00007-bed93910-98fd-4a87-adb8-265122095309",
        "deepnote_to_be_reexecuted": false,
        "source_hash": "6fa22865",
        "execution_millis": 2,
        "execution_start": 1616087896487,
        "deepnote_cell_type": "code"
      },
      "source": "data = pd.read_csv('heart.csv')\ny = data['target']\nX = data.drop('target', axis=1)",
      "outputs": [],
      "execution_count": null
    },
    {
      "cell_type": "markdown",
      "source": "## Feature Engineering",
      "metadata": {
        "tags": [],
        "cell_id": "00010-7aa8ed48-1736-4ee3-8240-bca3f4e11eb0",
        "deepnote_cell_type": "markdown"
      }
    },
    {
      "cell_type": "code",
      "metadata": {
        "tags": [],
        "cell_id": "00009-3b3ffd8c-c385-417a-8566-cda37a552cf2",
        "deepnote_to_be_reexecuted": false,
        "source_hash": "f8f5dd09",
        "execution_millis": 4,
        "execution_start": 1616087896494,
        "deepnote_cell_type": "code"
      },
      "source": "# Define \nnum_pipe = Pipeline([('imputer', SimpleImputer(strategy='most_frequent')), \n                     ('scaler', StandardScaler())])\ncat_pipe = Pipeline([('imputer', SimpleImputer(strategy=\"most_frequent\")),\n                    ('ohe', OneHotEncoder(handle_unknown='ignore'))])",
      "outputs": [],
      "execution_count": null
    },
    {
      "cell_type": "code",
      "metadata": {
        "tags": [],
        "cell_id": "00009-9c965591-3167-4612-80ae-e27d9cf88695",
        "deepnote_to_be_reexecuted": false,
        "source_hash": "efd0829a",
        "execution_millis": 4,
        "execution_start": 1616087896499,
        "deepnote_cell_type": "code"
      },
      "source": "# Preprocessing data - Note oldpeak has 33% of 0\npreprocessing = ColumnTransformer([('numerical', num_pipe, ['age','trestbps','chol','thalach','oldpeak']),\n                                   ('categorical', cat_pipe, ['sex','cp','fbs','restecg','exang','slope','ca','thal'])\n                                   ])",
      "outputs": [],
      "execution_count": null
    },
    {
      "cell_type": "markdown",
      "source": "Split Train, Validation, Test data\n----",
      "metadata": {
        "cell_id": "00009-b4447d07-0670-4e58-81f1-c68ef240367f",
        "deepnote_cell_type": "markdown"
      }
    },
    {
      "cell_type": "code",
      "metadata": {
        "cell_id": "00010-b11c0363-27d6-492c-8465-b5f8986b74bf",
        "deepnote_to_be_reexecuted": false,
        "source_hash": "339c9a4f",
        "execution_millis": 7,
        "execution_start": 1616087896503,
        "deepnote_cell_type": "code"
      },
      "source": "# Split data and then don't touch test data\nX_train, X_test, y_train, y_test = train_test_split(X, y, train_size=0.7)\n# Slit for train and validation data set\nX_train_sub, X_validation, y_train_sub, y_validation = train_test_split(X_train, y_train, train_size=0.7)",
      "outputs": [],
      "execution_count": null
    },
    {
      "cell_type": "markdown",
      "source": "## Try fitting multiple Sklearn algorithms",
      "metadata": {
        "tags": [],
        "cell_id": "00018-8aefc00e-2554-426a-a0db-08abbf529694",
        "deepnote_cell_type": "markdown"
      }
    },
    {
      "cell_type": "code",
      "metadata": {
        "tags": [],
        "cell_id": "00019-ae0824d0-9fe9-4d01-8ea0-cb6398cf0db4",
        "deepnote_to_be_reexecuted": false,
        "source_hash": "983455aa",
        "execution_millis": 0,
        "execution_start": 1616087896566,
        "deepnote_cell_type": "code"
      },
      "source": "# Selected high potential algorithms with default settings\nalgos = [RandomForestClassifier(),\n        ExtraTreesClassifier(),\n        IsolationForest(),\n        LogisticRegression(),\n        PassiveAggressiveClassifier(),\n        RidgeClassifier(),\n        SGDClassifier(),\n        DecisionTreeClassifier(),\n        ExtraTreeClassifier()]",
      "outputs": [],
      "execution_count": null
    },
    {
      "cell_type": "code",
      "metadata": {
        "tags": [],
        "cell_id": "00019-3f7e1cc3-6d16-4adc-85c9-ec154f1a3e13",
        "deepnote_to_be_reexecuted": false,
        "source_hash": "fbd23586",
        "execution_millis": 880,
        "execution_start": 1616087896566,
        "deepnote_cell_type": "code"
      },
      "source": "# For each algorithm, fit, predict, and evaluate with F1 score\nfor algo in algos:\n    pipe = Pipeline([('preprocessing', preprocessing),\n                    ('algo', algo)])\n    pipe.fit(X_train_sub, y_train_sub)\n    y_pred = pipe.predict(X_validation)\n    auc_score = f1_score(y_pred, y_validation, average='weighted')\n    print(f\"{algo} : {auc_score}\")",
      "outputs": [
        {
          "name": "stdout",
          "text": "RandomForestClassifier() : 0.8760416666666666\nExtraTreesClassifier() : 0.8450520833333334\nIsolationForest() : 0.29062499999999997\nLogisticRegression() : 0.8304275019700552\nPassiveAggressiveClassifier() : 0.84375\nRidgeClassifier() : 0.8304275019700552\nSGDClassifier() : 0.79766210281581\nDecisionTreeClassifier() : 0.6762706855791963\nExtraTreeClassifier() : 0.733495670995671\n",
          "output_type": "stream"
        }
      ],
      "execution_count": null
    },
    {
      "cell_type": "code",
      "metadata": {
        "tags": [],
        "cell_id": "00018-59448c44-aa56-4d00-879c-5e725095aebc",
        "deepnote_to_be_reexecuted": false,
        "source_hash": "665ef29a",
        "execution_millis": 15,
        "execution_start": 1616087897450,
        "deepnote_cell_type": "code"
      },
      "source": "# Create a dummy estimator for random search\nclass DummyEstimator(BaseEstimator):\n    \"\"\"Pass through class, methods are present but do nothing.\"\"\"\n    def fit(self): pass\n    def score(self): pass\n\npipe = Pipeline([('preprocessing', preprocessing),\n                ('classifier', DummyEstimator())])",
      "outputs": [],
      "execution_count": null
    },
    {
      "cell_type": "markdown",
      "source": "### Hyperperameter search\n- LogisticRegression: penalty can shrink model parameters' coefficient for better performance, C can changed strengths of penalties, fit_intercept is to decide whether or not to include the intercept for lower error, class_weight is set for balanced or None, and Solver algorithm is for different optimization problems.\n- RandomForestClassifier: criterion determines quality of split, n_estimators for number of trees in the forest, max_features is to consider how to split and select features, max_depth is for size of the trees, class_weight is for the weights associated to each class.\n- ExtraTreesClassifier: same hyperperameters as RandomForestClassifier",
      "metadata": {
        "tags": [],
        "cell_id": "00021-0f99d8b1-9209-4e25-ac66-19421959e8b4",
        "deepnote_cell_type": "markdown"
      }
    },
    {
      "cell_type": "code",
      "metadata": {
        "tags": [],
        "cell_id": "00019-4e46c537-7541-4e90-b99a-c9d6d6ec2471",
        "deepnote_to_be_reexecuted": false,
        "source_hash": "71dee218",
        "execution_millis": 216989,
        "execution_start": 1616087897465,
        "deepnote_cell_type": "code"
      },
      "source": "# Define search space for 3 algos and range of their hyperparameters\n\nsearch_space = [{'classifier': [LogisticRegression()],\n                'classifier__penalty': ['l1', 'l2', 'elasticnet', 'none'],\n                'classifier__C': np.logspace(0, 4, 10),\n                'classifier__fit_intercept': [True, False],\n                'classifier__class_weight': ['balanced','None'],\n                'classifier__solver' : ['newton-cg','lbfgs', 'liblinear', 'sag', 'saga']},\n                \n               {'classifier': [RandomForestClassifier()],\n                'classifier__criterion': ['gini', 'entropy'],\n                'classifier__n_estimators': [50,100,150,200],\n                'classifier__max_features': ['auto','sqrt','log2'],\n                'classifier__max_depth': [20,50,100,200],\n                'classifier__class_weight' : ['balanced','balanced_subsample']},\n                \n               {'classifier': [ExtraTreesClassifier()],\n                'classifier__criterion': ['gini', 'entropy'],\n                'classifier__n_estimators': [50,100,150,200],\n                'classifier__max_features': ['auto','sqrt','log2'],\n                'classifier__max_depth': [20,50,100,200],\n                'classifier__class_weight' : ['balanced','balanced_subsample']}]\n\n# Apply RandomizedSearch with pip and search space\nclf_algos_rand = RandomizedSearchCV(estimator=pipe, \n                                   param_distributions=search_space, \n                                   n_iter=500,\n                                   cv=5, \n                                   n_jobs=-1,\n                                   verbose=1)\n\nbest_model = clf_algos_rand.fit(X_train_sub, y_train_sub)\n\nbest_model.best_estimator_.get_params()['classifier']",
      "outputs": [
        {
          "name": "stdout",
          "text": "Fitting 5 folds for each of 500 candidates, totalling 2500 fits\n/shared-libs/python3.7/py/lib/python3.7/site-packages/sklearn/model_selection/_search.py:921: UserWarning: One or more of the test scores are non-finite: [0.82528736 0.83908046        nan        nan        nan        nan\n        nan        nan 0.80505747 0.80482759 0.83908046 0.80505747\n 0.8183908         nan 0.81218391        nan 0.81862069        nan\n 0.81862069        nan        nan 0.81195402 0.84551724 0.80551724\n        nan 0.81862069 0.81172414 0.8183908         nan 0.81885057\n 0.80528736 0.81885057 0.83218391        nan 0.80551724 0.81172414\n 0.80482759 0.81172414 0.83218391        nan 0.83241379        nan\n 0.85218391        nan        nan 0.80482759        nan 0.84551724\n 0.83195402 0.79885057 0.82551724 0.82528736        nan 0.80482759\n        nan 0.83885057 0.81885057        nan 0.79862069        nan\n        nan 0.8183908  0.80482759        nan        nan        nan\n 0.80482759 0.81264368 0.80482759 0.82574713 0.80482759        nan\n        nan 0.81195402 0.83885057 0.81885057        nan 0.79816092\n 0.83885057 0.82528736 0.80528736 0.8183908  0.80505747        nan\n        nan 0.81218391 0.83862069 0.80482759        nan        nan\n        nan 0.8183908  0.81885057        nan 0.80528736 0.80505747\n        nan        nan 0.80574713 0.81218391 0.8183908  0.8183908\n 0.81908046        nan 0.81885057        nan 0.79885057        nan\n        nan        nan        nan 0.80482759        nan        nan\n 0.80528736 0.8183908  0.83172414 0.81885057 0.81195402        nan\n        nan        nan 0.80505747 0.80505747 0.81862069 0.83885057\n 0.80551724        nan 0.8183908         nan 0.83218391 0.80482759\n 0.81862069        nan 0.80528736 0.84574713 0.81885057        nan\n 0.80505747 0.81218391        nan 0.81172414 0.82551724 0.81885057\n        nan        nan        nan        nan 0.81885057        nan\n 0.81885057 0.8183908  0.79885057 0.83195402        nan 0.80505747\n 0.80505747 0.81172414 0.83218391        nan 0.79885057        nan\n 0.81218391 0.79885057 0.81908046 0.81862069 0.80505747 0.80482759\n 0.81862069 0.82528736 0.81862069        nan 0.79862069        nan\n 0.8183908         nan 0.82551724        nan        nan        nan\n        nan        nan 0.81126437 0.81862069 0.80505747 0.81218391\n        nan 0.82574713        nan        nan        nan 0.8183908\n 0.81885057        nan        nan 0.81862069        nan 0.80505747\n 0.82574713 0.8183908         nan        nan 0.81885057 0.82528736\n        nan        nan        nan 0.80551724        nan 0.79885057\n 0.81862069 0.81862069 0.83862069 0.80551724 0.81172414 0.8183908\n 0.80551724 0.81195402        nan        nan        nan        nan\n 0.80482759 0.81885057 0.80528736        nan        nan        nan\n 0.83264368 0.8183908         nan        nan 0.81218391 0.8183908\n 0.8183908  0.81908046 0.81862069 0.81908046 0.81862069 0.82528736\n        nan        nan        nan 0.80482759 0.83885057        nan\n 0.80551724 0.81218391 0.81172414 0.8183908         nan 0.82528736\n 0.83195402 0.80505747 0.82574713 0.81862069 0.81885057 0.81218391\n 0.82528736 0.8183908  0.8183908         nan        nan 0.8183908\n 0.80505747 0.81172414 0.83241379 0.80482759 0.80528736        nan\n 0.83908046 0.83908046 0.80551724 0.82528736 0.83885057        nan\n 0.81862069        nan 0.80505747 0.81195402 0.80482759 0.81172414\n        nan        nan        nan 0.83218391 0.83218391        nan\n 0.82528736 0.80551724        nan 0.82528736 0.79862069        nan\n 0.80505747 0.81218391        nan 0.80551724 0.81885057 0.80528736\n        nan 0.81195402 0.82528736        nan 0.80482759 0.82574713\n 0.81885057        nan 0.81862069 0.80482759 0.81908046 0.81862069\n        nan        nan 0.80482759 0.83908046 0.78482759 0.83172414\n        nan 0.84574713 0.81885057 0.80482759 0.80551724 0.82528736\n 0.85218391 0.82551724 0.81885057        nan        nan 0.8183908\n 0.80482759 0.80505747 0.80528736 0.80551724        nan 0.83218391\n 0.84574713 0.80505747        nan 0.80482759 0.81172414 0.83241379\n 0.81172414 0.81218391 0.81172414 0.81195402        nan 0.80574713\n        nan        nan 0.81172414 0.81172414 0.81218391 0.82528736\n 0.81908046        nan        nan 0.84551724        nan        nan\n 0.80482759 0.81885057 0.79195402 0.80551724        nan 0.82551724\n 0.80551724 0.82528736 0.8183908  0.84551724        nan 0.82551724\n        nan 0.81885057 0.81908046 0.81172414 0.81885057 0.80505747\n 0.81195402        nan 0.83195402 0.81885057 0.81195402 0.81862069\n 0.81241379 0.80528736        nan 0.80482759 0.83908046 0.81172414\n 0.80528736 0.83885057 0.82528736 0.81908046        nan 0.80505747\n        nan 0.83241379 0.77793103        nan 0.80551724        nan\n        nan 0.84574713 0.82551724 0.8183908         nan 0.82528736\n        nan 0.81195402        nan 0.84528736 0.83218391 0.80505747\n 0.8183908         nan        nan        nan 0.82551724 0.83218391\n 0.80528736        nan        nan 0.81172414 0.83931034        nan\n 0.82528736        nan        nan 0.80482759        nan 0.81218391\n        nan        nan 0.83218391        nan 0.82551724 0.84551724\n 0.80482759        nan        nan 0.83885057        nan        nan\n 0.79885057        nan 0.82574713        nan 0.80551724 0.82528736\n 0.80551724 0.80482759 0.83195402 0.81862069 0.81885057 0.81172414\n        nan 0.81172414        nan 0.80482759 0.8183908  0.82551724\n        nan 0.82528736 0.8183908  0.80528736 0.80505747 0.80482759\n 0.82574713 0.80505747 0.80551724 0.82528736 0.8183908  0.80482759\n        nan 0.80505747 0.80551724 0.80505747        nan 0.79862069\n        nan 0.8183908         nan        nan 0.80482759 0.84528736\n        nan 0.81862069 0.81862069 0.81862069        nan        nan\n 0.81862069 0.83885057        nan 0.81908046 0.81862069        nan\n 0.83195402        nan]\n  category=UserWarning\n",
          "output_type": "stream"
        },
        {
          "output_type": "execute_result",
          "execution_count": 11,
          "data": {
            "text/plain": "ExtraTreesClassifier(class_weight='balanced_subsample', criterion='entropy',\n                     max_depth=200, max_features='sqrt', n_estimators=200)"
          },
          "metadata": {}
        }
      ],
      "execution_count": null
    },
    {
      "cell_type": "code",
      "metadata": {
        "tags": [],
        "cell_id": "00020-73daa5e1-b8cf-4c2d-aee3-3d6513eb4684",
        "deepnote_to_be_reexecuted": false,
        "source_hash": "4c375dba",
        "execution_millis": 4,
        "execution_start": 1616088114458,
        "deepnote_cell_type": "code"
      },
      "source": "# best model and it's hyperperamters\npipe = Pipeline([('clm',  ExtraTreesClassifier(class_weight='balanced',\n                                                  criterion='entropy',\n                                                  max_depth=200, \n                                                  max_features='log2',  \n                                                  n_estimators=150))])",
      "outputs": [],
      "execution_count": null
    },
    {
      "cell_type": "markdown",
      "source": "## Model Evaluation",
      "metadata": {
        "tags": [],
        "cell_id": "00021-e2a8895a-e65b-4907-a448-e1f7401e8116",
        "deepnote_cell_type": "markdown"
      }
    },
    {
      "cell_type": "code",
      "metadata": {
        "tags": [],
        "cell_id": "00023-1f80bd91-ee59-44b2-856d-67a1d4855779",
        "deepnote_to_be_reexecuted": false,
        "source_hash": "758bc4ac",
        "execution_millis": 297,
        "execution_start": 1616088114469,
        "deepnote_cell_type": "code"
      },
      "source": "# ROC score on validaton set\npipe.fit(X_train_sub, y_train_sub)\ny_pred = pipe.predict(X_validation)\nroc_auc = roc_auc_score(y_pred, y_validation)\nroc_auc",
      "outputs": [
        {
          "output_type": "execute_result",
          "execution_count": 13,
          "data": {
            "text/plain": "0.8208333333333333"
          },
          "metadata": {}
        }
      ],
      "execution_count": null
    },
    {
      "cell_type": "code",
      "metadata": {
        "tags": [],
        "cell_id": "00021-12d97d32-adf4-4bcc-91b1-969a0d1be892",
        "deepnote_to_be_reexecuted": false,
        "source_hash": "2fc33214",
        "execution_millis": 43,
        "execution_start": 1616088114726,
        "deepnote_cell_type": "code"
      },
      "source": "# F1 score on validaton set\ny_pred = pipe.predict(X_validation)\nf1_weighted_score = f1_score(y_pred, y_validation, average='weighted')\nf1_weighted_score",
      "outputs": [
        {
          "output_type": "execute_result",
          "execution_count": 14,
          "data": {
            "text/plain": "0.8287910100749161"
          },
          "metadata": {}
        }
      ],
      "execution_count": null
    },
    {
      "cell_type": "code",
      "metadata": {
        "tags": [],
        "cell_id": "00021-57623580-cefb-4d6a-ba9c-e07efed37246",
        "deepnote_to_be_reexecuted": false,
        "source_hash": "5df0f2b4",
        "execution_millis": 4897,
        "execution_start": 1616088114764,
        "deepnote_cell_type": "code"
      },
      "source": "# F1 score from cross validation - model get to see more data, better prediction accuracy\ncv_f1_score = cross_val_score(pipe, X_train, y_train, cv=20,scoring='f1_weighted')\nprint(\"Mean 20-Fold f1 score: {}\".format(np.mean(cv_f1_score)))",
      "outputs": [
        {
          "name": "stdout",
          "text": "Mean 20-Fold f1 score: 0.8388708513708515\n",
          "output_type": "stream"
        }
      ],
      "execution_count": null
    },
    {
      "cell_type": "code",
      "metadata": {
        "tags": [],
        "cell_id": "00022-32b7e7ce-8be4-4411-9857-8466aa9618dc",
        "deepnote_to_be_reexecuted": false,
        "source_hash": "ea02fb17",
        "execution_millis": 585,
        "execution_start": 1616088119599,
        "deepnote_cell_type": "code"
      },
      "source": "# Confusion Matrix to see prediction outcomes\npipe.fit(X_train_sub, y_train_sub)\nplot_confusion_matrix(pipe, X_validation, y_validation)",
      "outputs": [
        {
          "output_type": "execute_result",
          "execution_count": 16,
          "data": {
            "text/plain": "<sklearn.metrics._plot.confusion_matrix.ConfusionMatrixDisplay at 0x7f621c3741d0>"
          },
          "metadata": {}
        },
        {
          "data": {
            "text/plain": "<Figure size 432x288 with 2 Axes>",
            "image/png": "[encoded data removed]"
          },
          "metadata": {
            "needs_background": "light"
          },
          "output_type": "display_data"
        }
      ],
      "execution_count": null
    },
    {
      "cell_type": "markdown",
      "source": "## Applying different concepts\n- Feature engineer with PCA and K-mean clustering with best model\n- Stack Models ",
      "metadata": {
        "tags": [],
        "cell_id": "00026-8c9864f6-7457-4662-bb96-e62946889fc3",
        "deepnote_cell_type": "markdown"
      }
    },
    {
      "cell_type": "code",
      "metadata": {
        "tags": [],
        "cell_id": "00022-1f6e3e22-d785-47cd-a2c7-0a30b52afacc",
        "deepnote_to_be_reexecuted": false,
        "source_hash": "9766b04f",
        "execution_millis": 12,
        "execution_start": 1616088120172,
        "deepnote_cell_type": "code"
      },
      "source": "# Apply PCA before k-mean clustering\npca = PCA(n_components=0.99)\nX_pca = pca.fit_transform(X) \nprint(f\"Original number of features: {X.shape[1]}\")\nprint(f\"Reduced number of features that retain 99% variance:  {X_pca.shape[1]}\")",
      "outputs": [
        {
          "name": "stdout",
          "text": "Original number of features: 13\nReduced number of features that retain 99% variance:  4\n",
          "output_type": "stream"
        }
      ],
      "execution_count": null
    },
    {
      "cell_type": "code",
      "metadata": {
        "tags": [],
        "cell_id": "00023-ffd0ffe4-25a0-4722-9e23-a7f762edf11d",
        "deepnote_to_be_reexecuted": false,
        "source_hash": "4e28920c",
        "execution_millis": 4121,
        "execution_start": 1616088120179,
        "deepnote_cell_type": "code"
      },
      "source": "# Use previous best algorithm with k-mean clustering in feature engineering\npipe = Pipeline([('pca', PCA(n_components=.99)), # found that 4 components retain 99% variance of y\n                ('k-mean', KMeans(n_clusters=20)),\n                ('scaler', StandardScaler()),\n                ('clm',  ExtraTreesClassifier(class_weight='balanced_subsample',\n                                                  criterion='entropy',\n                                                  max_depth=100, \n                                                  max_features='log2',  \n                                                  n_estimators=50))])\n\n# F1 Score with cross validation for PCA, K-mean clustering, with best model and tune hyperparamters\n# Not great for prediction, but better for interoperability\ncv_f1_score = cross_val_score(pipe, X_train, y_train, cv=20,scoring='f1_weighted')\nprint(\"Mean 20-Fold f1 score: {}\".format(np.mean(cv_f1_score)))",
      "outputs": [
        {
          "name": "stdout",
          "text": "Mean 20-Fold f1 score: 0.6604179154179153\n",
          "output_type": "stream"
        }
      ],
      "execution_count": null
    },
    {
      "cell_type": "code",
      "metadata": {
        "tags": [],
        "cell_id": "00030-2a2969a7-df73-4bfc-a928-b988da1fe575",
        "deepnote_to_be_reexecuted": false,
        "source_hash": "a55ee52e",
        "execution_millis": 0,
        "execution_start": 1616088124294,
        "deepnote_cell_type": "code"
      },
      "source": "# Stacking algorithms with default settings\nestimators = [('passive_clf', ExtraTreesClassifier())]\nclf_stacked = StackingClassifier(estimators=estimators, final_estimator=LogisticRegression())\n",
      "outputs": [],
      "execution_count": null
    },
    {
      "cell_type": "code",
      "metadata": {
        "tags": [],
        "cell_id": "00030-23ca21a0-f652-4fea-b06a-e034922818fc",
        "deepnote_to_be_reexecuted": false,
        "source_hash": "941c224d",
        "execution_millis": 18119,
        "execution_start": 1616088124294,
        "deepnote_cell_type": "code"
      },
      "source": "# Evaluation of stacked models\ncv_f1_score = cross_val_score(clf_stacked, X_train, y_train, cv=20,scoring='f1_weighted')\nprint(\"Mean 20-Fold f1 score: {}\".format(np.mean(cv_f1_score)))\n",
      "outputs": [
        {
          "name": "stdout",
          "text": "Mean 20-Fold f1 score: 0.8286865911865913\n",
          "output_type": "stream"
        }
      ],
      "execution_count": null
    },
    {
      "cell_type": "markdown",
      "source": "## Conclusion\n- For single model performance, ExtraTreesClassifier model perform best\n- Cross validation is key to improve model training\n- Stacked models has slightly more prediction power, at the cost of computation load\n- Even though this data set is fairly small, I can still apply a good ML model to help detect a presence of heart disease. \n- I would select a simple working model over complexed models that might have little to no gain. Selected model listed below:",
      "metadata": {
        "tags": [],
        "cell_id": "00033-158450f2-c1a4-490b-a1aa-7a16fced23ea",
        "deepnote_cell_type": "markdown"
      }
    },
    {
      "cell_type": "code",
      "metadata": {
        "tags": [],
        "cell_id": "00033-ae7c5bb7-049b-4c34-872f-82d0391db571",
        "deepnote_to_be_reexecuted": false,
        "source_hash": "d2ec89d0",
        "execution_millis": 18,
        "execution_start": 1616088142410,
        "deepnote_cell_type": "code"
      },
      "source": "# best single algorithm and it's hyperperamters\npipe = Pipeline([('clm',  ExtraTreesClassifier(class_weight='balanced',\n                                                  criterion='entropy',\n                                                  max_depth=200, \n                                                  max_features='log2',  \n                                                  n_estimators=150))])",
      "outputs": [],
      "execution_count": null
    },
    {
      "cell_type": "code",
      "metadata": {
        "tags": [],
        "cell_id": "00034-0aa1b137-e1ea-49fa-897a-e259d6ac1239",
        "deepnote_to_be_reexecuted": false,
        "source_hash": "47d5d39d",
        "execution_millis": 269,
        "execution_start": 1616088142432,
        "deepnote_cell_type": "code"
      },
      "source": "# F1 score on test set\n# fit model on the entire training data \npipe.fit(X_train, y_train)\n\n# predict and evaluate\ny_pred = pipe.predict(X_test)\nf1_weighted_score = f1_score(y_pred, y_test, average='weighted')\nf1_weighted_score",
      "outputs": [
        {
          "output_type": "execute_result",
          "execution_count": 22,
          "data": {
            "text/plain": "0.7700125645679184"
          },
          "metadata": {}
        }
      ],
      "execution_count": null
    },
    {
      "cell_type": "code",
      "metadata": {
        "tags": [],
        "cell_id": "00035-d8a97a29-1735-48b5-9778-f07828682ec9",
        "deepnote_to_be_reexecuted": false,
        "source_hash": "b623e53d",
        "execution_millis": 2,
        "execution_start": 1616088142688,
        "deepnote_cell_type": "code"
      },
      "source": "",
      "outputs": [],
      "execution_count": null
    },
    {
      "cell_type": "markdown",
      "source": "<a style='text-decoration:none;line-height:16px;display:flex;color:#5B5B62;padding:10px;justify-content:end;' href='https://deepnote.com?utm_source=created-in-deepnote-cell&projectId=960ce66a-728d-4a49-9d4e-4ed93cf3dd63' target=\"_blank\">\n<img style='display:inline;max-height:16px;margin:0px;margin-right:7.5px;' src='data:image/svg+xml;base64,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' > </img>\nCreated in <span style='font-weight:600;margin-left:4px;'>Deepnote</span></a>",
      "metadata": {
        "tags": [],
        "created_in_deepnote_cell": true,
        "deepnote_cell_type": "markdown"
      }
    }
  ],
  "nbformat": 4,
  "nbformat_minor": 4,
  "metadata": {
    "kernelspec": {
      "display_name": "Python 3",
      "language": "python",
      "name": "python3"
    },
    "language_info": {
      "codemirror_mode": {
        "name": "ipython",
        "version": 3
      },
      "file_extension": ".py",
      "mimetype": "text/x-python",
      "name": "python",
      "nbconvert_exporter": "python",
      "pygments_lexer": "ipython3",
      "version": "3.8.2"
    },
    "toc": {
      "base_numbering": 1,
      "nav_menu": {},
      "number_sections": false,
      "sideBar": false,
      "skip_h1_title": false,
      "title_cell": "Table of Contents",
      "title_sidebar": "Contents",
      "toc_cell": true,
      "toc_position": {},
      "toc_section_display": true,
      "toc_window_display": false
    },
    "deepnote_notebook_id": "16cc1b17-80ae-464c-8f4b-b308bf9f809e",
    "deepnote": {},
    "deepnote_execution_queue": []
  }
}